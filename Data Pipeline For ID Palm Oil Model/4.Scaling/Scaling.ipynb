{
 "cells": [
  {
   "cell_type": "code",
   "execution_count": 1,
   "metadata": {},
   "outputs": [
    {
     "name": "stdout",
     "output_type": "stream",
     "text": [
      "Standardized data saved to standardized_data.xlsx\n",
      "Scaler saved to scaler.joblib\n"
     ]
    }
   ],
   "source": [
    "import pandas as pd\n",
    "from sklearn.preprocessing import StandardScaler\n",
    "import joblib\n",
    "\n",
    "# Load the data from the Excel file\n",
    "file_path = '/Users/germankosenkov/Code projects/S&D estimation:forecasting/Indonesian S&D/New/Code/3. Resampling/Resampled.xlsx'  # Replace with your actual file path\n",
    "data = pd.read_excel(file_path)\n",
    "\n",
    "# Standardize the features\n",
    "scaler = StandardScaler()\n",
    "standardized_features = scaler.fit_transform(data)\n",
    "\n",
    "# Save the scaler to a file for future use\n",
    "scaler_file_path = 'scaler.joblib'  # Replace with your desired file path for the scaler\n",
    "joblib.dump(scaler, scaler_file_path)\n",
    "\n",
    "# Create a DataFrame for the standardized features\n",
    "standardized_features_df = pd.DataFrame(standardized_features, columns=data.columns)\n",
    "\n",
    "# Save the standardized data to a new Excel file\n",
    "output_file_path = 'standardized_data.xlsx'  # Replace with your desired output file path\n",
    "standardized_features_df.to_excel(output_file_path, index=False)\n",
    "\n",
    "print(f\"Standardized data saved to {output_file_path}\")\n",
    "print(f\"Scaler saved to {scaler_file_path}\")\n",
    "\n"
   ]
  }
 ],
 "metadata": {
  "kernelspec": {
   "display_name": "base",
   "language": "python",
   "name": "python3"
  },
  "language_info": {
   "codemirror_mode": {
    "name": "ipython",
    "version": 3
   },
   "file_extension": ".py",
   "mimetype": "text/x-python",
   "name": "python",
   "nbconvert_exporter": "python",
   "pygments_lexer": "ipython3",
   "version": "3.9.13 (main, Aug 25 2022, 18:29:29) \n[Clang 12.0.0 ]"
  },
  "orig_nbformat": 4,
  "vscode": {
   "interpreter": {
    "hash": "a44830708761a843059adba6d554183630a5ed8b6adc3257bd6953cce1e327da"
   }
  }
 },
 "nbformat": 4,
 "nbformat_minor": 2
}
