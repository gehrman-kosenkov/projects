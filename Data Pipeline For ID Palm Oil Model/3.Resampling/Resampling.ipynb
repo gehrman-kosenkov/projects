{
 "cells": [
  {
   "cell_type": "code",
   "execution_count": 1,
   "metadata": {},
   "outputs": [],
   "source": [
    "import pandas as pd\n",
    "from Constants import AGGREGATION\n",
    "\n",
    "data = '/Users/germankosenkov/Code projects/S&D estimation:forecasting/Indonesian S&D/New/Code/3. Resampling/merged_file_filled.xlsx'\n",
    "\n",
    "df = pd.read_excel(data)\n",
    "\n",
    "df['Date'] = pd.to_datetime(df['Date'], format='%d-%m-%Y')\n",
    "\n",
    "\n",
    "df.set_index('Date', inplace=True)\n",
    "\n",
    "\n",
    "monthly_df = df.resample('M').agg(AGGREGATION)\n",
    "\n",
    "# Reset the index to have a clean DataFrame\n",
    "monthly_df.reset_index(inplace=True)\n",
    "\n",
    "# Define the output file path for the current item\n",
    "output_path = f'/Users/germankosenkov/Code projects/S&D estimation:forecasting/Indonesian S&D/New/Code/3. Resampling/Resampled.xlsx'\n",
    "\n",
    "# Write the modified DataFrame to the output file\n",
    "monthly_df.to_excel(output_path, index=False)\n"
   ]
  }
 ],
 "metadata": {
  "kernelspec": {
   "display_name": "base",
   "language": "python",
   "name": "python3"
  },
  "language_info": {
   "codemirror_mode": {
    "name": "ipython",
    "version": 3
   },
   "file_extension": ".py",
   "mimetype": "text/x-python",
   "name": "python",
   "nbconvert_exporter": "python",
   "pygments_lexer": "ipython3",
   "version": "3.9.13 (main, Aug 25 2022, 18:29:29) \n[Clang 12.0.0 ]"
  },
  "orig_nbformat": 4,
  "vscode": {
   "interpreter": {
    "hash": "a44830708761a843059adba6d554183630a5ed8b6adc3257bd6953cce1e327da"
   }
  }
 },
 "nbformat": 4,
 "nbformat_minor": 2
}
