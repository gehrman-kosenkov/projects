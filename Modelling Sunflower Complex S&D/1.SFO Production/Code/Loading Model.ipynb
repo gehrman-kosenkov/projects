{
 "cells": [
  {
   "cell_type": "code",
   "execution_count": 1,
   "metadata": {},
   "outputs": [],
   "source": [
    "import pickle\n",
    "import pandas as pd\n",
    "\n",
    "with open('var_model.pkl', 'rb') as f:\n",
    "    var_model = pickle.load(f)\n",
    "\n",
    "# Chnage to your file path\n",
    "new_data = pd.read_excel('/Users/germankosenkov/Code projects/S&D estimation:forecasting/XXX SFS and SFO S&D/SFO Production/Data/Raw Data/Merged.xlsx')\n",
    "new_data['date'] = pd.to_datetime(new_data['date'])\n",
    "new_data.set_index('date', inplace=True)\n",
    "\n",
    "\n",
    "new_data_diff = new_data.diff().dropna()\n"
   ]
  },
  {
   "cell_type": "code",
   "execution_count": 2,
   "metadata": {},
   "outputs": [
    {
     "name": "stdout",
     "output_type": "stream",
     "text": [
      "Next Month Forecast: 709301.5010750201\n"
     ]
    }
   ],
   "source": [
    "lag_order = var_model.k_ar\n",
    "new_forecast = var_model.forecast(new_data_diff.values[-lag_order:], steps=1)\n",
    "forecast_df = pd.DataFrame(new_forecast, columns=new_data_diff.columns)\n",
    "\n",
    "def invert_transformation(original_data, forecast):\n",
    "    forecast_values = forecast.copy()\n",
    "    for col in original_data.columns:\n",
    "        forecast_values[col] = original_data[col].iloc[-1] + forecast_values[col].cumsum()\n",
    "    return forecast_values\n",
    "\n",
    "forecast_values = invert_transformation(new_data, forecast_df)\n",
    "print(f\"Next Month Forecast: {forecast_values['Production'].iloc[-1]}\")\n"
   ]
  }
 ],
 "metadata": {
  "kernelspec": {
   "display_name": "base",
   "language": "python",
   "name": "python3"
  },
  "language_info": {
   "codemirror_mode": {
    "name": "ipython",
    "version": 3
   },
   "file_extension": ".py",
   "mimetype": "text/x-python",
   "name": "python",
   "nbconvert_exporter": "python",
   "pygments_lexer": "ipython3",
   "version": "3.9.13"
  },
  "orig_nbformat": 4,
  "vscode": {
   "interpreter": {
    "hash": "a44830708761a843059adba6d554183630a5ed8b6adc3257bd6953cce1e327da"
   }
  }
 },
 "nbformat": 4,
 "nbformat_minor": 2
}
